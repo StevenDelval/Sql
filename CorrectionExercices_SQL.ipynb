{
 "cells": [
  {
   "cell_type": "markdown",
   "metadata": {},
   "source": [
    "# Exercices SQL\n",
    "\n",
    "Lors de cet exercice sur les requêtes SQL, vous apprendrez à effectuer des requêtes SQL afin d'intérroger une base de données avec python. Pour ceci, la première étape est d'importer le module sqlite3.\n",
    "\n",
    "Une fois cette étape effectuée, on se connecte à la base de données, puis nous pouvons créer le curseur."
   ]
  },
  {
   "cell_type": "code",
   "execution_count": 1,
   "metadata": {},
   "outputs": [],
   "source": [
    "import sqlite3\n",
    "\n",
    "connexion = sqlite3.connect(\"Chinook_Sqlite.sqlite\")\n",
    "curseur = connexion.cursor()"
   ]
  },
  {
   "cell_type": "markdown",
   "metadata": {},
   "source": [
    "Une fois le curseur, nous pouvons demander au curseur d'exécuter nos requêtes SQL à l'aide de la méthode execute()"
   ]
  },
  {
   "cell_type": "code",
   "execution_count": null,
   "metadata": {},
   "outputs": [],
   "source": [
    "curseur.execute(\"SELECT * from Artist;\")"
   ]
  },
  {
   "cell_type": "markdown",
   "metadata": {},
   "source": [
    "Afin de parcourir les données reçues, nous pouvons utiliser 3 methodes :\n",
    "- la méthode fetchall() qui renvoie une liste contenant chaque entrée dans un tuple\n",
    "- la méthode fetchmany() qui prend un entier n en paramètre et renvoie une liste qui contient les n premières entrées (sous forme de tuple)\n",
    "- la méthode fetchone() qui renvoie la première entrée sous forme de tuple"
   ]
  },
  {
   "cell_type": "code",
   "execution_count": null,
   "metadata": {},
   "outputs": [],
   "source": [
    "curseur.execute(\"SELECT * from Artist;\")\n",
    "curseur.fetchone()"
   ]
  },
  {
   "cell_type": "code",
   "execution_count": null,
   "metadata": {},
   "outputs": [],
   "source": [
    "curseur.execute(\"\"\"SELECT Track.Name, Genre.Name from Track \n",
    "                JOIN Genre ON Genre.GenreId = Track.GenreId\n",
    "                WHERE Milliseconds > 500000;\n",
    "                \"\"\")\n",
    "curseur.fetchall()"
   ]
  },
  {
   "cell_type": "code",
   "execution_count": null,
   "metadata": {},
   "outputs": [],
   "source": [
    "curseur.execute(\"SELECT * from Artist;\")\n",
    "curseur.fetchmany(5)"
   ]
  },
  {
   "cell_type": "markdown",
   "metadata": {},
   "source": [
    "1. **Selectionnez les clients (customer) qui ne viennent pas des USA. (On selectionnera uniquement les colonnes _CustomerId_, _FirstName_, _LastName_ et _Country_)**"
   ]
  },
  {
   "cell_type": "code",
   "execution_count": 3,
   "metadata": {},
   "outputs": [
    {
     "data": {
      "text/plain": [
       "[(1, 'Luís', 'Gonçalves', 'Brazil'),\n",
       " (2, 'Leonie', 'Köhler', 'Germany'),\n",
       " (3, 'François', 'Tremblay', 'Canada'),\n",
       " (4, 'Bjørn', 'Hansen', 'Norway'),\n",
       " (5, 'František', 'Wichterlová', 'Czech Republic'),\n",
       " (6, 'Helena', 'Holý', 'Czech Republic'),\n",
       " (7, 'Astrid', 'Gruber', 'Austria'),\n",
       " (8, 'Daan', 'Peeters', 'Belgium'),\n",
       " (9, 'Kara', 'Nielsen', 'Denmark'),\n",
       " (10, 'Eduardo', 'Martins', 'Brazil'),\n",
       " (11, 'Alexandre', 'Rocha', 'Brazil'),\n",
       " (12, 'Roberto', 'Almeida', 'Brazil'),\n",
       " (13, 'Fernanda', 'Ramos', 'Brazil'),\n",
       " (14, 'Mark', 'Philips', 'Canada'),\n",
       " (15, 'Jennifer', 'Peterson', 'Canada'),\n",
       " (29, 'Robert', 'Brown', 'Canada'),\n",
       " (30, 'Edward', 'Francis', 'Canada'),\n",
       " (31, 'Martha', 'Silk', 'Canada'),\n",
       " (32, 'Aaron', 'Mitchell', 'Canada'),\n",
       " (33, 'Ellie', 'Sullivan', 'Canada'),\n",
       " (34, 'João', 'Fernandes', 'Portugal'),\n",
       " (35, 'Madalena', 'Sampaio', 'Portugal'),\n",
       " (36, 'Hannah', 'Schneider', 'Germany'),\n",
       " (37, 'Fynn', 'Zimmermann', 'Germany'),\n",
       " (38, 'Niklas', 'Schröder', 'Germany'),\n",
       " (39, 'Camille', 'Bernard', 'France'),\n",
       " (40, 'Dominique', 'Lefebvre', 'France'),\n",
       " (41, 'Marc', 'Dubois', 'France'),\n",
       " (42, 'Wyatt', 'Girard', 'France'),\n",
       " (43, 'Isabelle', 'Mercier', 'France'),\n",
       " (44, 'Terhi', 'Hämäläinen', 'Finland'),\n",
       " (45, 'Ladislav', 'Kovács', 'Hungary'),\n",
       " (46, 'Hugh', \"O'Reilly\", 'Ireland'),\n",
       " (47, 'Lucas', 'Mancini', 'Italy'),\n",
       " (48, 'Johannes', 'Van der Berg', 'Netherlands'),\n",
       " (49, 'Stanisław', 'Wójcik', 'Poland'),\n",
       " (50, 'Enrique', 'Muñoz', 'Spain'),\n",
       " (51, 'Joakim', 'Johansson', 'Sweden'),\n",
       " (52, 'Emma', 'Jones', 'United Kingdom'),\n",
       " (53, 'Phil', 'Hughes', 'United Kingdom'),\n",
       " (54, 'Steve', 'Murray', 'United Kingdom'),\n",
       " (55, 'Mark', 'Taylor', 'Australia'),\n",
       " (56, 'Diego', 'Gutiérrez', 'Argentina'),\n",
       " (57, 'Luis', 'Rojas', 'Chile'),\n",
       " (58, 'Manoj', 'Pareek', 'India'),\n",
       " (59, 'Puja', 'Srivastava', 'India')]"
      ]
     },
     "execution_count": 3,
     "metadata": {},
     "output_type": "execute_result"
    }
   ],
   "source": [
    "curseur.execute(\"\"\"\n",
    "                SELECT CustomerId, FirstName, LastName, Country \n",
    "                FROM Customer\n",
    "                WHERE Country != \"USA\"\n",
    "\"\"\")\n",
    "\n",
    "curseur.fetchall()"
   ]
  },
  {
   "cell_type": "markdown",
   "metadata": {},
   "source": [
    "2. **Selectionnez uniquement les clients qui viennent du Brésil (On selectionnera uniquement les colonnes _CustomerId_, _FirstName_, _LastName_ et _Country_)**"
   ]
  },
  {
   "cell_type": "code",
   "execution_count": 6,
   "metadata": {},
   "outputs": [
    {
     "data": {
      "text/plain": [
       "[(1, 'Luís', 'Gonçalves', 'Brazil'),\n",
       " (10, 'Eduardo', 'Martins', 'Brazil'),\n",
       " (11, 'Alexandre', 'Rocha', 'Brazil'),\n",
       " (12, 'Roberto', 'Almeida', 'Brazil'),\n",
       " (13, 'Fernanda', 'Ramos', 'Brazil')]"
      ]
     },
     "execution_count": 6,
     "metadata": {},
     "output_type": "execute_result"
    }
   ],
   "source": [
    "curseur.execute(\"\"\"\n",
    "                SELECT CustomerId, FirstName, LastName, Country \n",
    "                FROM Customer\n",
    "                WHERE Country = \"Brazil\"\n",
    "\"\"\")\n",
    "\n",
    "curseur.fetchall()"
   ]
  },
  {
   "cell_type": "markdown",
   "metadata": {},
   "source": [
    "3. **Selectionnez les factures (Invoice) des clients brésiliens. Afficher le nom, le prénom, l'ID de la facture, la date et le pays de facturation**"
   ]
  },
  {
   "cell_type": "code",
   "execution_count": 12,
   "metadata": {},
   "outputs": [
    {
     "data": {
      "text/plain": [
       "[('Eduardo', 'Martins', 25, '2009-04-09 00:00:00', 'Brazil'),\n",
       " ('Roberto', 'Almeida', 34, '2009-05-23 00:00:00', 'Brazil'),\n",
       " ('Fernanda', 'Ramos', 35, '2009-06-05 00:00:00', 'Brazil'),\n",
       " ('Alexandre', 'Rocha', 57, '2009-09-06 00:00:00', 'Brazil'),\n",
       " ('Fernanda', 'Ramos', 58, '2009-09-07 00:00:00', 'Brazil'),\n",
       " ('Alexandre', 'Rocha', 68, '2009-10-17 00:00:00', 'Brazil'),\n",
       " ('Fernanda', 'Ramos', 80, '2009-12-10 00:00:00', 'Brazil'),\n",
       " ('Luís', 'Gonçalves', 98, '2010-03-11 00:00:00', 'Brazil'),\n",
       " ('Luís', 'Gonçalves', 121, '2010-06-13 00:00:00', 'Brazil'),\n",
       " ('Alexandre', 'Rocha', 123, '2010-06-17 00:00:00', 'Brazil'),\n",
       " ('Fernanda', 'Ramos', 132, '2010-07-31 00:00:00', 'Brazil'),\n",
       " ('Luís', 'Gonçalves', 143, '2010-09-15 00:00:00', 'Brazil'),\n",
       " ('Eduardo', 'Martins', 154, '2010-11-14 00:00:00', 'Brazil'),\n",
       " ('Roberto', 'Almeida', 155, '2010-11-14 00:00:00', 'Brazil'),\n",
       " ('Roberto', 'Almeida', 166, '2010-12-25 00:00:00', 'Brazil'),\n",
       " ('Eduardo', 'Martins', 177, '2011-02-16 00:00:00', 'Brazil'),\n",
       " ('Luís', 'Gonçalves', 195, '2011-05-06 00:00:00', 'Brazil'),\n",
       " ('Eduardo', 'Martins', 199, '2011-05-21 00:00:00', 'Brazil'),\n",
       " ('Roberto', 'Almeida', 221, '2011-08-25 00:00:00', 'Brazil'),\n",
       " ('Eduardo', 'Martins', 251, '2012-01-09 00:00:00', 'Brazil'),\n",
       " ('Alexandre', 'Rocha', 252, '2012-01-22 00:00:00', 'Brazil'),\n",
       " ('Fernanda', 'Ramos', 253, '2012-01-22 00:00:00', 'Brazil'),\n",
       " ('Fernanda', 'Ramos', 264, '2012-03-03 00:00:00', 'Brazil'),\n",
       " ('Alexandre', 'Rocha', 275, '2012-04-25 00:00:00', 'Brazil'),\n",
       " ('Alexandre', 'Rocha', 297, '2012-07-28 00:00:00', 'Brazil'),\n",
       " ('Luís', 'Gonçalves', 316, '2012-10-27 00:00:00', 'Brazil'),\n",
       " ('Fernanda', 'Ramos', 319, '2012-11-01 00:00:00', 'Brazil'),\n",
       " ('Luís', 'Gonçalves', 327, '2012-12-07 00:00:00', 'Brazil'),\n",
       " ('Alexandre', 'Rocha', 349, '2013-03-18 00:00:00', 'Brazil'),\n",
       " ('Roberto', 'Almeida', 350, '2013-03-31 00:00:00', 'Brazil'),\n",
       " ('Eduardo', 'Martins', 372, '2013-07-02 00:00:00', 'Brazil'),\n",
       " ('Roberto', 'Almeida', 373, '2013-07-03 00:00:00', 'Brazil'),\n",
       " ('Luís', 'Gonçalves', 382, '2013-08-07 00:00:00', 'Brazil'),\n",
       " ('Eduardo', 'Martins', 383, '2013-08-12 00:00:00', 'Brazil'),\n",
       " ('Roberto', 'Almeida', 395, '2013-10-05 00:00:00', 'Brazil')]"
      ]
     },
     "execution_count": 12,
     "metadata": {},
     "output_type": "execute_result"
    }
   ],
   "source": [
    "curseur.execute(\"\"\"\n",
    "                    SELECT Customer.FirstName, Customer.LastName, InvoiceId, InvoiceDate, BillingCountry\n",
    "                    FROM Invoice\n",
    "                    JOIN Customer ON Customer.CustomerId = Invoice.CustomerId\n",
    "                    WHERE BillingCountry = \"Brazil\"\n",
    "\"\"\")\n",
    "curseur.fetchall()"
   ]
  },
  {
   "cell_type": "markdown",
   "metadata": {},
   "source": [
    "4. **Affichez la liste des pays où au moins une facture a été enregistrée. (On n'affichera qu'une seule fois chaque pays)**"
   ]
  },
  {
   "cell_type": "code",
   "execution_count": 15,
   "metadata": {},
   "outputs": [
    {
     "data": {
      "text/plain": [
       "[('Germany',),\n",
       " ('Norway',),\n",
       " ('Belgium',),\n",
       " ('Canada',),\n",
       " ('USA',),\n",
       " ('France',),\n",
       " ('Ireland',),\n",
       " ('United Kingdom',),\n",
       " ('Australia',),\n",
       " ('Chile',),\n",
       " ('India',),\n",
       " ('Brazil',),\n",
       " ('Portugal',),\n",
       " ('Netherlands',),\n",
       " ('Spain',),\n",
       " ('Sweden',),\n",
       " ('Czech Republic',),\n",
       " ('Finland',),\n",
       " ('Denmark',),\n",
       " ('Italy',),\n",
       " ('Poland',),\n",
       " ('Austria',),\n",
       " ('Hungary',),\n",
       " ('Argentina',)]"
      ]
     },
     "execution_count": 15,
     "metadata": {},
     "output_type": "execute_result"
    }
   ],
   "source": [
    "curseur.execute(\"\"\"\n",
    "                SELECT DISTINCT BillingCountry FROM Invoice\n",
    "\"\"\")\n",
    "curseur.fetchall()"
   ]
  },
  {
   "cell_type": "markdown",
   "metadata": {},
   "source": [
    "5. **Écrivez une requête SQL permettant d'afficher toutes les factures associées à leur vendeur (On affichera le prénom, le nom, l'ID de la facture, le total et le prix de la facture)**"
   ]
  },
  {
   "cell_type": "code",
   "execution_count": 16,
   "metadata": {},
   "outputs": [
    {
     "data": {
      "text/plain": [
       "[('Johnson', 'Steve', 1, 1.98),\n",
       " ('Park', 'Margaret', 2, 3.96),\n",
       " ('Park', 'Margaret', 3, 5.94),\n",
       " ('Johnson', 'Steve', 4, 8.91),\n",
       " ('Park', 'Margaret', 5, 13.86),\n",
       " ('Peacock', 'Jane', 6, 0.99),\n",
       " ('Peacock', 'Jane', 7, 1.98),\n",
       " ('Park', 'Margaret', 8, 1.98),\n",
       " ('Peacock', 'Jane', 9, 3.96),\n",
       " ('Peacock', 'Jane', 10, 5.94),\n",
       " ('Peacock', 'Jane', 11, 8.91),\n",
       " ('Johnson', 'Steve', 12, 13.86),\n",
       " ('Park', 'Margaret', 13, 0.99),\n",
       " ('Johnson', 'Steve', 14, 1.98),\n",
       " ('Peacock', 'Jane', 15, 1.98),\n",
       " ('Johnson', 'Steve', 16, 3.96),\n",
       " ('Johnson', 'Steve', 17, 5.94),\n",
       " ('Johnson', 'Steve', 18, 8.91),\n",
       " ('Park', 'Margaret', 19, 13.86),\n",
       " ('Johnson', 'Steve', 20, 0.99),\n",
       " ('Park', 'Margaret', 21, 1.98),\n",
       " ('Johnson', 'Steve', 22, 1.98),\n",
       " ('Peacock', 'Jane', 23, 3.96),\n",
       " ('Park', 'Margaret', 24, 5.94),\n",
       " ('Park', 'Margaret', 25, 8.91),\n",
       " ('Peacock', 'Jane', 26, 13.86),\n",
       " ('Peacock', 'Jane', 27, 0.99),\n",
       " ('Park', 'Margaret', 28, 1.98),\n",
       " ('Johnson', 'Steve', 29, 1.98),\n",
       " ('Peacock', 'Jane', 30, 3.96),\n",
       " ('Peacock', 'Jane', 31, 5.94),\n",
       " ('Johnson', 'Steve', 32, 8.91),\n",
       " ('Johnson', 'Steve', 33, 13.86),\n",
       " ('Peacock', 'Jane', 34, 0.99),\n",
       " ('Park', 'Margaret', 35, 1.98),\n",
       " ('Peacock', 'Jane', 36, 1.98),\n",
       " ('Johnson', 'Steve', 37, 3.96),\n",
       " ('Johnson', 'Steve', 38, 5.94),\n",
       " ('Park', 'Margaret', 39, 8.91),\n",
       " ('Johnson', 'Steve', 40, 13.86),\n",
       " ('Johnson', 'Steve', 41, 0.99),\n",
       " ('Johnson', 'Steve', 42, 1.98),\n",
       " ('Peacock', 'Jane', 43, 1.98),\n",
       " ('Park', 'Margaret', 44, 3.96),\n",
       " ('Peacock', 'Jane', 45, 5.94),\n",
       " ('Johnson', 'Steve', 46, 8.91),\n",
       " ('Peacock', 'Jane', 47, 13.86),\n",
       " ('Peacock', 'Jane', 48, 0.99),\n",
       " ('Peacock', 'Jane', 49, 1.98),\n",
       " ('Park', 'Margaret', 50, 1.98),\n",
       " ('Park', 'Margaret', 51, 3.96),\n",
       " ('Peacock', 'Jane', 52, 5.94),\n",
       " ('Peacock', 'Jane', 53, 8.91),\n",
       " ('Peacock', 'Jane', 54, 13.86),\n",
       " ('Park', 'Margaret', 55, 0.99),\n",
       " ('Park', 'Margaret', 56, 1.98),\n",
       " ('Johnson', 'Steve', 57, 1.98),\n",
       " ('Park', 'Margaret', 58, 3.96),\n",
       " ('Johnson', 'Steve', 59, 5.94),\n",
       " ('Park', 'Margaret', 60, 8.91),\n",
       " ('Park', 'Margaret', 61, 13.86),\n",
       " ('Peacock', 'Jane', 62, 0.99),\n",
       " ('Johnson', 'Steve', 63, 1.98),\n",
       " ('Park', 'Margaret', 64, 1.98),\n",
       " ('Johnson', 'Steve', 65, 3.96),\n",
       " ('Park', 'Margaret', 66, 5.94),\n",
       " ('Johnson', 'Steve', 67, 8.91),\n",
       " ('Johnson', 'Steve', 68, 13.86),\n",
       " ('Johnson', 'Steve', 69, 0.99),\n",
       " ('Park', 'Margaret', 70, 1.98),\n",
       " ('Johnson', 'Steve', 71, 1.98),\n",
       " ('Peacock', 'Jane', 72, 3.96),\n",
       " ('Park', 'Margaret', 73, 5.94),\n",
       " ('Park', 'Margaret', 74, 8.91),\n",
       " ('Park', 'Margaret', 75, 13.86),\n",
       " ('Park', 'Margaret', 76, 0.99),\n",
       " ('Park', 'Margaret', 77, 1.98),\n",
       " ('Johnson', 'Steve', 78, 1.98),\n",
       " ('Park', 'Margaret', 79, 3.96),\n",
       " ('Park', 'Margaret', 80, 5.94),\n",
       " ('Peacock', 'Jane', 81, 8.91),\n",
       " ('Johnson', 'Steve', 82, 13.86),\n",
       " ('Peacock', 'Jane', 83, 0.99),\n",
       " ('Peacock', 'Jane', 84, 1.98),\n",
       " ('Peacock', 'Jane', 85, 1.98),\n",
       " ('Johnson', 'Steve', 86, 3.96),\n",
       " ('Johnson', 'Steve', 87, 6.94),\n",
       " ('Johnson', 'Steve', 88, 17.91),\n",
       " ('Johnson', 'Steve', 89, 18.86),\n",
       " ('Johnson', 'Steve', 90, 0.99),\n",
       " ('Park', 'Margaret', 91, 1.98),\n",
       " ('Peacock', 'Jane', 92, 1.98),\n",
       " ('Park', 'Margaret', 93, 3.96),\n",
       " ('Peacock', 'Jane', 94, 5.94),\n",
       " ('Johnson', 'Steve', 95, 8.91),\n",
       " ('Peacock', 'Jane', 96, 21.86),\n",
       " ('Peacock', 'Jane', 97, 1.99),\n",
       " ('Peacock', 'Jane', 98, 3.98),\n",
       " ('Peacock', 'Jane', 99, 3.98),\n",
       " ('Park', 'Margaret', 100, 3.96),\n",
       " ('Park', 'Margaret', 101, 5.94),\n",
       " ('Peacock', 'Jane', 102, 9.91),\n",
       " ('Peacock', 'Jane', 103, 15.86),\n",
       " ('Peacock', 'Jane', 104, 0.99),\n",
       " ('Park', 'Margaret', 105, 1.98),\n",
       " ('Johnson', 'Steve', 106, 1.98),\n",
       " ('Peacock', 'Jane', 107, 3.96),\n",
       " ('Johnson', 'Steve', 108, 5.94),\n",
       " ('Peacock', 'Jane', 109, 8.91),\n",
       " ('Peacock', 'Jane', 110, 13.86),\n",
       " ('Johnson', 'Steve', 111, 0.99),\n",
       " ('Peacock', 'Jane', 112, 1.98),\n",
       " ('Park', 'Margaret', 113, 1.98),\n",
       " ('Park', 'Margaret', 114, 3.96),\n",
       " ('Park', 'Margaret', 115, 5.94),\n",
       " ('Park', 'Margaret', 116, 8.91),\n",
       " ('Johnson', 'Steve', 117, 13.86),\n",
       " ('Park', 'Margaret', 118, 0.99),\n",
       " ('Park', 'Margaret', 119, 1.98),\n",
       " ('Peacock', 'Jane', 120, 1.98),\n",
       " ('Peacock', 'Jane', 121, 3.96),\n",
       " ('Park', 'Margaret', 122, 5.94),\n",
       " ('Johnson', 'Steve', 123, 8.91),\n",
       " ('Park', 'Margaret', 124, 13.86),\n",
       " ('Park', 'Margaret', 125, 0.99),\n",
       " ('Park', 'Margaret', 126, 1.98),\n",
       " ('Peacock', 'Jane', 127, 1.98),\n",
       " ('Park', 'Margaret', 128, 3.96),\n",
       " ('Peacock', 'Jane', 129, 5.94),\n",
       " ('Park', 'Margaret', 130, 8.91),\n",
       " ('Peacock', 'Jane', 131, 13.86),\n",
       " ('Park', 'Margaret', 132, 0.99),\n",
       " ('Johnson', 'Steve', 133, 1.98),\n",
       " ('Park', 'Margaret', 134, 1.98),\n",
       " ('Peacock', 'Jane', 135, 3.96),\n",
       " ('Park', 'Margaret', 136, 5.94),\n",
       " ('Johnson', 'Steve', 137, 8.91),\n",
       " ('Peacock', 'Jane', 138, 13.86),\n",
       " ('Johnson', 'Steve', 139, 0.99),\n",
       " ('Peacock', 'Jane', 140, 1.98),\n",
       " ('Johnson', 'Steve', 141, 1.98),\n",
       " ('Park', 'Margaret', 142, 3.96),\n",
       " ('Peacock', 'Jane', 143, 5.94),\n",
       " ('Johnson', 'Steve', 144, 8.91),\n",
       " ('Park', 'Margaret', 145, 13.86),\n",
       " ('Peacock', 'Jane', 146, 0.99),\n",
       " ('Johnson', 'Steve', 147, 1.98),\n",
       " ('Peacock', 'Jane', 148, 1.98),\n",
       " ('Park', 'Margaret', 149, 3.96),\n",
       " ('Park', 'Margaret', 150, 5.94),\n",
       " ('Peacock', 'Jane', 151, 8.91),\n",
       " ('Johnson', 'Steve', 152, 13.86),\n",
       " ('Park', 'Margaret', 153, 0.99),\n",
       " ('Park', 'Margaret', 154, 1.98),\n",
       " ('Peacock', 'Jane', 155, 1.98),\n",
       " ('Johnson', 'Steve', 156, 3.96),\n",
       " ('Peacock', 'Jane', 157, 5.94),\n",
       " ('Peacock', 'Jane', 158, 8.91),\n",
       " ('Peacock', 'Jane', 159, 13.86),\n",
       " ('Johnson', 'Steve', 160, 0.99),\n",
       " ('Johnson', 'Steve', 161, 1.98),\n",
       " ('Johnson', 'Steve', 162, 1.98),\n",
       " ('Peacock', 'Jane', 163, 3.96),\n",
       " ('Park', 'Margaret', 164, 5.94),\n",
       " ('Peacock', 'Jane', 165, 8.91),\n",
       " ('Peacock', 'Jane', 166, 13.86),\n",
       " ('Park', 'Margaret', 167, 0.99),\n",
       " ('Park', 'Margaret', 168, 1.98),\n",
       " ('Peacock', 'Jane', 169, 1.98),\n",
       " ('Johnson', 'Steve', 170, 3.96),\n",
       " ('Park', 'Margaret', 171, 5.94),\n",
       " ('Johnson', 'Steve', 172, 8.91),\n",
       " ('Johnson', 'Steve', 173, 13.86),\n",
       " ('Park', 'Margaret', 174, 0.99),\n",
       " ('Johnson', 'Steve', 175, 1.98),\n",
       " ('Park', 'Margaret', 176, 1.98),\n",
       " ('Park', 'Margaret', 177, 3.96),\n",
       " ('Johnson', 'Steve', 178, 5.94),\n",
       " ('Park', 'Margaret', 179, 8.91),\n",
       " ('Peacock', 'Jane', 180, 13.86),\n",
       " ('Peacock', 'Jane', 181, 0.99),\n",
       " ('Peacock', 'Jane', 182, 1.98),\n",
       " ('Peacock', 'Jane', 183, 1.98),\n",
       " ('Johnson', 'Steve', 184, 3.96),\n",
       " ('Peacock', 'Jane', 185, 5.94),\n",
       " ('Peacock', 'Jane', 186, 8.91),\n",
       " ('Park', 'Margaret', 187, 13.86),\n",
       " ('Park', 'Margaret', 188, 0.99),\n",
       " ('Park', 'Margaret', 189, 1.98),\n",
       " ('Johnson', 'Steve', 190, 1.98),\n",
       " ('Park', 'Margaret', 191, 3.96),\n",
       " ('Johnson', 'Steve', 192, 5.94),\n",
       " ('Peacock', 'Jane', 193, 14.91),\n",
       " ('Peacock', 'Jane', 194, 21.86),\n",
       " ('Peacock', 'Jane', 195, 0.99),\n",
       " ('Johnson', 'Steve', 196, 1.98),\n",
       " ('Park', 'Margaret', 197, 1.98),\n",
       " ('Johnson', 'Steve', 198, 3.96),\n",
       " ('Park', 'Margaret', 199, 5.94),\n",
       " ('Park', 'Margaret', 200, 8.91),\n",
       " ('Johnson', 'Steve', 201, 18.86),\n",
       " ('Park', 'Margaret', 202, 1.99),\n",
       " ('Park', 'Margaret', 203, 2.98),\n",
       " ('Peacock', 'Jane', 204, 3.98),\n",
       " ('Peacock', 'Jane', 205, 7.96),\n",
       " ('Johnson', 'Steve', 206, 8.94),\n",
       " ('Johnson', 'Steve', 207, 8.91),\n",
       " ('Park', 'Margaret', 208, 15.86),\n",
       " ('Peacock', 'Jane', 209, 0.99),\n",
       " ('Peacock', 'Jane', 210, 1.98),\n",
       " ('Johnson', 'Steve', 211, 1.98),\n",
       " ('Park', 'Margaret', 212, 3.96),\n",
       " ('Park', 'Margaret', 213, 5.94),\n",
       " ('Peacock', 'Jane', 214, 8.91),\n",
       " ('Peacock', 'Jane', 215, 13.86),\n",
       " ('Park', 'Margaret', 216, 0.99),\n",
       " ('Johnson', 'Steve', 217, 1.98),\n",
       " ('Peacock', 'Jane', 218, 1.98),\n",
       " ('Johnson', 'Steve', 219, 3.96),\n",
       " ('Johnson', 'Steve', 220, 5.94),\n",
       " ('Peacock', 'Jane', 221, 8.91),\n",
       " ('Johnson', 'Steve', 222, 13.86),\n",
       " ('Park', 'Margaret', 223, 0.99),\n",
       " ('Johnson', 'Steve', 224, 1.98),\n",
       " ('Peacock', 'Jane', 225, 1.98),\n",
       " ('Park', 'Margaret', 226, 3.96),\n",
       " ('Peacock', 'Jane', 227, 5.94),\n",
       " ('Johnson', 'Steve', 228, 8.91),\n",
       " ('Peacock', 'Jane', 229, 13.86),\n",
       " ('Johnson', 'Steve', 230, 0.99),\n",
       " ('Peacock', 'Jane', 231, 1.98),\n",
       " ('Johnson', 'Steve', 232, 1.98),\n",
       " ('Peacock', 'Jane', 233, 3.96),\n",
       " ('Park', 'Margaret', 234, 5.94),\n",
       " ('Peacock', 'Jane', 235, 8.91),\n",
       " ('Peacock', 'Jane', 236, 13.86),\n",
       " ('Peacock', 'Jane', 237, 0.99),\n",
       " ('Peacock', 'Jane', 238, 1.98),\n",
       " ('Park', 'Margaret', 239, 1.98),\n",
       " ('Johnson', 'Steve', 240, 3.96),\n",
       " ('Johnson', 'Steve', 241, 5.94),\n",
       " ('Park', 'Margaret', 242, 8.91),\n",
       " ('Johnson', 'Steve', 243, 13.86),\n",
       " ('Johnson', 'Steve', 244, 0.99),\n",
       " ('Park', 'Margaret', 245, 1.98),\n",
       " ('Park', 'Margaret', 246, 1.98),\n",
       " ('Johnson', 'Steve', 247, 3.96),\n",
       " ('Park', 'Margaret', 248, 5.94),\n",
       " ('Peacock', 'Jane', 249, 8.91),\n",
       " ('Park', 'Margaret', 250, 13.86),\n",
       " ('Park', 'Margaret', 251, 0.99),\n",
       " ('Johnson', 'Steve', 252, 1.98),\n",
       " ('Park', 'Margaret', 253, 1.98),\n",
       " ('Peacock', 'Jane', 254, 3.96),\n",
       " ('Peacock', 'Jane', 255, 5.94),\n",
       " ('Johnson', 'Steve', 256, 8.91),\n",
       " ('Park', 'Margaret', 257, 13.86),\n",
       " ('Johnson', 'Steve', 258, 0.99),\n",
       " ('Park', 'Margaret', 259, 1.98),\n",
       " ('Johnson', 'Steve', 260, 1.98),\n",
       " ('Peacock', 'Jane', 261, 3.96),\n",
       " ('Johnson', 'Steve', 262, 5.94),\n",
       " ('Park', 'Margaret', 263, 8.91),\n",
       " ('Park', 'Margaret', 264, 13.86),\n",
       " ('Park', 'Margaret', 265, 0.99),\n",
       " ('Johnson', 'Steve', 266, 1.98),\n",
       " ('Peacock', 'Jane', 267, 1.98),\n",
       " ('Park', 'Margaret', 268, 3.96),\n",
       " ('Johnson', 'Steve', 269, 5.94),\n",
       " ('Peacock', 'Jane', 270, 8.91),\n",
       " ('Johnson', 'Steve', 271, 13.86),\n",
       " ('Johnson', 'Steve', 272, 0.99),\n",
       " ('Johnson', 'Steve', 273, 1.98),\n",
       " ('Park', 'Margaret', 274, 1.98),\n",
       " ('Johnson', 'Steve', 275, 3.96),\n",
       " ('Peacock', 'Jane', 276, 5.94),\n",
       " ('Johnson', 'Steve', 277, 8.91),\n",
       " ('Peacock', 'Jane', 278, 13.86),\n",
       " ('Peacock', 'Jane', 279, 0.99),\n",
       " ('Peacock', 'Jane', 280, 1.98),\n",
       " ('Johnson', 'Steve', 281, 1.98),\n",
       " ('Park', 'Margaret', 282, 3.96),\n",
       " ('Peacock', 'Jane', 283, 5.94),\n",
       " ('Peacock', 'Jane', 284, 8.91),\n",
       " ('Park', 'Margaret', 285, 13.86),\n",
       " ('Park', 'Margaret', 286, 0.99),\n",
       " ('Peacock', 'Jane', 287, 1.98),\n",
       " ('Park', 'Margaret', 288, 1.98),\n",
       " ('Johnson', 'Steve', 289, 3.96),\n",
       " ('Park', 'Margaret', 290, 5.94),\n",
       " ('Peacock', 'Jane', 291, 8.91),\n",
       " ('Johnson', 'Steve', 292, 13.86),\n",
       " ('Johnson', 'Steve', 293, 0.99),\n",
       " ('Peacock', 'Jane', 294, 1.98),\n",
       " ('Park', 'Margaret', 295, 1.98),\n",
       " ('Johnson', 'Steve', 296, 3.96),\n",
       " ('Johnson', 'Steve', 297, 5.94),\n",
       " ('Johnson', 'Steve', 298, 10.91),\n",
       " ('Park', 'Margaret', 299, 23.86),\n",
       " ('Park', 'Margaret', 300, 0.99),\n",
       " ('Johnson', 'Steve', 301, 1.98),\n",
       " ('Peacock', 'Jane', 302, 1.98),\n",
       " ('Peacock', 'Jane', 303, 3.96),\n",
       " ('Park', 'Margaret', 304, 5.94),\n",
       " ('Park', 'Margaret', 305, 8.91),\n",
       " ('Park', 'Margaret', 306, 16.86),\n",
       " ('Peacock', 'Jane', 307, 1.99),\n",
       " ('Park', 'Margaret', 308, 3.98),\n",
       " ('Park', 'Margaret', 309, 3.98),\n",
       " ('Peacock', 'Jane', 310, 7.96),\n",
       " ('Johnson', 'Steve', 311, 11.94),\n",
       " ('Park', 'Margaret', 312, 10.91),\n",
       " ('Peacock', 'Jane', 313, 16.86),\n",
       " ('Johnson', 'Steve', 314, 0.99),\n",
       " ('Peacock', 'Jane', 315, 1.98),\n",
       " ('Peacock', 'Jane', 316, 1.98),\n",
       " ('Peacock', 'Jane', 317, 3.96),\n",
       " ('Johnson', 'Steve', 318, 5.94),\n",
       " ('Park', 'Margaret', 319, 8.91),\n",
       " ('Park', 'Margaret', 320, 13.86),\n",
       " ('Johnson', 'Steve', 321, 0.99),\n",
       " ('Peacock', 'Jane', 322, 1.98),\n",
       " ('Park', 'Margaret', 323, 1.98),\n",
       " ('Johnson', 'Steve', 324, 3.96),\n",
       " ('Peacock', 'Jane', 325, 5.94),\n",
       " ('Johnson', 'Steve', 326, 8.91),\n",
       " ('Peacock', 'Jane', 327, 13.86),\n",
       " ('Peacock', 'Jane', 328, 0.99),\n",
       " ('Park', 'Margaret', 329, 1.98),\n",
       " ('Peacock', 'Jane', 330, 1.98),\n",
       " ('Park', 'Margaret', 331, 3.96),\n",
       " ('Peacock', 'Jane', 332, 5.94),\n",
       " ('Peacock', 'Jane', 333, 8.91),\n",
       " ('Park', 'Margaret', 334, 13.86),\n",
       " ('Peacock', 'Jane', 335, 0.99),\n",
       " ('Johnson', 'Steve', 336, 1.98),\n",
       " ('Park', 'Margaret', 337, 1.98),\n",
       " ('Peacock', 'Jane', 338, 3.96),\n",
       " ('Peacock', 'Jane', 339, 5.94),\n",
       " ('Park', 'Margaret', 340, 8.91),\n",
       " ('Peacock', 'Jane', 341, 13.86),\n",
       " ('Park', 'Margaret', 342, 0.99),\n",
       " ('Peacock', 'Jane', 343, 1.98),\n",
       " ('Park', 'Margaret', 344, 1.98),\n",
       " ('Peacock', 'Jane', 345, 3.96),\n",
       " ('Johnson', 'Steve', 346, 5.94),\n",
       " ('Johnson', 'Steve', 347, 8.91),\n",
       " ('Park', 'Margaret', 348, 13.86),\n",
       " ('Johnson', 'Steve', 349, 0.99),\n",
       " ('Peacock', 'Jane', 350, 1.98),\n",
       " ('Johnson', 'Steve', 351, 1.98),\n",
       " ('Park', 'Margaret', 352, 3.96),\n",
       " ('Park', 'Margaret', 353, 5.94),\n",
       " ('Park', 'Margaret', 354, 8.91),\n",
       " ('Park', 'Margaret', 355, 13.86),\n",
       " ('Park', 'Margaret', 356, 0.99),\n",
       " ('Johnson', 'Steve', 357, 1.98),\n",
       " ('Peacock', 'Jane', 358, 1.98),\n",
       " ('Johnson', 'Steve', 359, 3.96),\n",
       " ('Peacock', 'Jane', 360, 5.94),\n",
       " ('Park', 'Margaret', 361, 8.91),\n",
       " ('Johnson', 'Steve', 362, 13.86),\n",
       " ('Johnson', 'Steve', 363, 0.99),\n",
       " ('Peacock', 'Jane', 364, 1.98),\n",
       " ('Johnson', 'Steve', 365, 1.98),\n",
       " ('Peacock', 'Jane', 366, 3.96),\n",
       " ('Peacock', 'Jane', 367, 5.94),\n",
       " ('Peacock', 'Jane', 368, 8.91),\n",
       " ('Peacock', 'Jane', 369, 13.86),\n",
       " ('Johnson', 'Steve', 370, 0.99),\n",
       " ('Park', 'Margaret', 371, 1.98),\n",
       " ('Park', 'Margaret', 372, 1.98),\n",
       " ('Peacock', 'Jane', 373, 3.96),\n",
       " ('Park', 'Margaret', 374, 5.94),\n",
       " ('Park', 'Margaret', 375, 8.91),\n",
       " ('Johnson', 'Steve', 376, 13.86),\n",
       " ('Peacock', 'Jane', 377, 0.99),\n",
       " ('Peacock', 'Jane', 378, 1.98),\n",
       " ('Johnson', 'Steve', 379, 1.98),\n",
       " ('Johnson', 'Steve', 380, 3.96),\n",
       " ('Johnson', 'Steve', 381, 5.94),\n",
       " ('Peacock', 'Jane', 382, 8.91),\n",
       " ('Park', 'Margaret', 383, 13.86),\n",
       " ('Peacock', 'Jane', 384, 0.99),\n",
       " ('Johnson', 'Steve', 385, 1.98),\n",
       " ('Park', 'Margaret', 386, 1.98),\n",
       " ('Peacock', 'Jane', 387, 3.96),\n",
       " ('Peacock', 'Jane', 388, 5.94),\n",
       " ('Park', 'Margaret', 389, 8.91),\n",
       " ('Johnson', 'Steve', 390, 13.86),\n",
       " ('Peacock', 'Jane', 391, 0.99),\n",
       " ('Park', 'Margaret', 392, 1.98),\n",
       " ('Johnson', 'Steve', 393, 1.98),\n",
       " ('Park', 'Margaret', 394, 3.96),\n",
       " ('Peacock', 'Jane', 395, 5.94),\n",
       " ('Peacock', 'Jane', 396, 8.91),\n",
       " ('Park', 'Margaret', 397, 13.86),\n",
       " ('Johnson', 'Steve', 398, 0.99),\n",
       " ('Peacock', 'Jane', 399, 1.98),\n",
       " ('Peacock', 'Jane', 400, 1.98),\n",
       " ('Peacock', 'Jane', 401, 3.96),\n",
       " ('Johnson', 'Steve', 402, 5.94),\n",
       " ('Park', 'Margaret', 403, 8.91),\n",
       " ('Johnson', 'Steve', 404, 25.86),\n",
       " ('Park', 'Margaret', 405, 0.99),\n",
       " ('Johnson', 'Steve', 406, 1.98),\n",
       " ('Park', 'Margaret', 407, 1.98),\n",
       " ('Johnson', 'Steve', 408, 3.96),\n",
       " ('Peacock', 'Jane', 409, 5.94),\n",
       " ('Park', 'Margaret', 410, 8.91),\n",
       " ('Peacock', 'Jane', 411, 13.86),\n",
       " ('Peacock', 'Jane', 412, 1.99)]"
      ]
     },
     "execution_count": 16,
     "metadata": {},
     "output_type": "execute_result"
    }
   ],
   "source": [
    "curseur.execute(\"\"\"\n",
    "                SELECT Employee.LastName, Employee.FirstName, Invoice.InvoiceId, Invoice.Total\n",
    "                FROM Invoice\n",
    "                JOIN Customer ON Customer.CustomerId = Invoice.CustomerId\n",
    "                JOIN Employee ON Employee.EmployeeId = Customer.SupportRepId\n",
    "\"\"\")\n",
    "curseur.fetchall()"
   ]
  },
  {
   "cell_type": "markdown",
   "metadata": {},
   "source": [
    "6. **Écrivez une requête SQL permettant d'afficher la somme totale des ventes de chaque vendeur** (Indice : GROUP BY)"
   ]
  },
  {
   "cell_type": "code",
   "execution_count": 18,
   "metadata": {},
   "outputs": [
    {
     "data": {
      "text/plain": [
       "[('Peacock', 'Jane', 833.0400000000016),\n",
       " ('Park', 'Margaret', 775.4000000000005),\n",
       " ('Johnson', 'Steve', 720.1600000000011)]"
      ]
     },
     "execution_count": 18,
     "metadata": {},
     "output_type": "execute_result"
    }
   ],
   "source": [
    "curseur.execute(\"\"\"\n",
    "                SELECT Employee.LastName, Employee.FirstName, SUM(Invoice.Total)\n",
    "                FROM Invoice\n",
    "                JOIN Customer ON Customer.CustomerId = Invoice.CustomerId\n",
    "                JOIN Employee ON Employee.EmployeeId = Customer.SupportRepId\n",
    "                GROUP BY Employee.EmployeeId\n",
    "\"\"\")\n",
    "curseur.fetchall()"
   ]
  },
  {
   "cell_type": "markdown",
   "metadata": {},
   "source": [
    "7. **Écrivez une requête SQL permettant d'afficher la somme totale des ventes de chaque vendeur en 2009** (Indice : GROUP BY)"
   ]
  },
  {
   "cell_type": "code",
   "execution_count": 22,
   "metadata": {},
   "outputs": [
    {
     "data": {
      "text/plain": [
       "[('Peacock', 'Jane', 123.74999999999997),\n",
       " ('Park', 'Margaret', 161.36999999999995),\n",
       " ('Johnson', 'Steve', 164.33999999999997)]"
      ]
     },
     "execution_count": 22,
     "metadata": {},
     "output_type": "execute_result"
    }
   ],
   "source": [
    "curseur.execute(\"\"\"\n",
    "                SELECT Employee.LastName, Employee.FirstName, SUM(Invoice.Total)\n",
    "                FROM Invoice\n",
    "                JOIN Customer ON Customer.CustomerId = Invoice.CustomerId\n",
    "                JOIN Employee ON Employee.EmployeeId = Customer.SupportRepId\n",
    "                WHERE InvoiceDate LIKE \"2009-%\"\n",
    "                GROUP BY Employee.EmployeeId\n",
    "\"\"\")\n",
    "curseur.fetchall()"
   ]
  },
  {
   "cell_type": "markdown",
   "metadata": {},
   "source": [
    "8. **Écrivez une requête SQL permettant d'afficher le total de chanson qui sont du Metal**"
   ]
  },
  {
   "cell_type": "code",
   "execution_count": 29,
   "metadata": {},
   "outputs": [
    {
     "data": {
      "text/plain": [
       "[(374,)]"
      ]
     },
     "execution_count": 29,
     "metadata": {},
     "output_type": "execute_result"
    }
   ],
   "source": [
    "curseur.execute(\"\"\"\n",
    "                SELECT COUNT(Track.name) FROM Track\n",
    "                JOIN Genre ON Track.GenreId = Genre.GenreId\n",
    "                WHERE Genre.name = \"Metal\"\n",
    "\"\"\")\n",
    "curseur.fetchall()"
   ]
  },
  {
   "cell_type": "markdown",
   "metadata": {},
   "source": [
    "9. **Écrivez une requête SQL permettant de connaitre le nombre de chansons dans chaque playlist**"
   ]
  },
  {
   "cell_type": "code",
   "execution_count": 39,
   "metadata": {},
   "outputs": [
    {
     "data": {
      "text/plain": [
       "[('Music', 3290),\n",
       " ('TV Shows', 213),\n",
       " ('90’s Music', 1477),\n",
       " ('Music', 3290),\n",
       " ('Music Videos', 1),\n",
       " ('TV Shows', 213),\n",
       " ('Brazilian Music', 39),\n",
       " ('Classical', 75),\n",
       " ('Classical 101 - Deep Cuts', 25),\n",
       " ('Classical 101 - Next Steps', 25),\n",
       " ('Classical 101 - The Basics', 25),\n",
       " ('Grunge', 15),\n",
       " ('Heavy Metal Classic', 26),\n",
       " ('On-The-Go 1', 1)]"
      ]
     },
     "execution_count": 39,
     "metadata": {},
     "output_type": "execute_result"
    }
   ],
   "source": [
    "curseur.execute(\"\"\"\n",
    "                SELECT Playlist.Name, COUNT(PlaylistTrack.TrackId)\n",
    "                FROM Playlist\n",
    "                JOIN PlaylistTrack ON PlaylistTrack.PlaylistId = Playlist.PlaylistId\n",
    "                GROUP BY PlaylistTrack.PlaylistId\n",
    "                \n",
    "\"\"\")\n",
    "curseur.fetchall()\n"
   ]
  },
  {
   "cell_type": "code",
   "execution_count": 46,
   "metadata": {},
   "outputs": [
    {
     "data": {
      "text/plain": [
       "[(2, 'Accept')]"
      ]
     },
     "execution_count": 46,
     "metadata": {},
     "output_type": "execute_result"
    }
   ],
   "source": [
    "groupe_user = input(\"Entrez le nom de l'artiste\")\n",
    "\n",
    "curseur.execute(\"\"\"SELECT * FROM Artist WHERE Name = ?\"\"\", (groupe_user,))\n",
    "curseur.fetchall()"
   ]
  },
  {
   "cell_type": "code",
   "execution_count": 55,
   "metadata": {},
   "outputs": [],
   "source": [
    "def ajout_artiste(Nom):\n",
    "    connexion = sqlite3.connect(\"Chinook_Sqlite.sqlite\")\n",
    "    curseur = connexion.cursor()\n",
    "    curseur.execute(\"INSERT INTO Artist VALUES (?, ?);\", (None, Nom))\n",
    "    connexion.commit()\n",
    "    connexion.close()\n",
    "\n",
    "ajout_artiste(\"test2\")"
   ]
  },
  {
   "cell_type": "code",
   "execution_count": 54,
   "metadata": {},
   "outputs": [],
   "source": [
    "def supprimer_artiste(id):\n",
    "    connexion = sqlite3.connect(\"Chinook_Sqlite.sqlite\")\n",
    "    curseur = connexion.cursor()\n",
    "    curseur.execute(\"DELETE FROM Artist WHERE ArtistId = ?;\", (id,))\n",
    "    connexion.commit()\n",
    "    connexion.close()\n",
    "\n",
    "supprimer_artiste(276)"
   ]
  },
  {
   "cell_type": "code",
   "execution_count": 56,
   "metadata": {},
   "outputs": [],
   "source": [
    "def maj_nom_artiste(id, nom):\n",
    "    connexion = sqlite3.connect(\"Chinook_Sqlite.sqlite\")\n",
    "    curseur = connexion.cursor()\n",
    "    curseur.execute(\"UPDATE Artist SET Name = ? WHERE ArtistId = ?\", (nom, id))\n",
    "    connexion.commit()\n",
    "    connexion.close()\n",
    "\n",
    "maj_nom_artiste(278, \"Rammstein\")"
   ]
  },
  {
   "cell_type": "code",
   "execution_count": null,
   "metadata": {},
   "outputs": [],
   "source": []
  }
 ],
 "metadata": {
  "kernelspec": {
   "display_name": "Python 3.9.7 64-bit",
   "language": "python",
   "name": "python3"
  },
  "language_info": {
   "codemirror_mode": {
    "name": "ipython",
    "version": 3
   },
   "file_extension": ".py",
   "mimetype": "text/x-python",
   "name": "python",
   "nbconvert_exporter": "python",
   "pygments_lexer": "ipython3",
   "version": "3.9.7"
  },
  "orig_nbformat": 4,
  "vscode": {
   "interpreter": {
    "hash": "b0fa6594d8f4cbf19f97940f81e996739fb7646882a419484c72d19e05852a7e"
   }
  }
 },
 "nbformat": 4,
 "nbformat_minor": 2
}
