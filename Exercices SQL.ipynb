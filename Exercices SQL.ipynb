{
 "cells": [
  {
   "cell_type": "markdown",
   "metadata": {},
   "source": [
    "# Exercices SQL\n",
    "\n",
    "Lors de cet exercice sur les requêtes SQL, vous apprendrez à effectuer des requêtes SQL afin d'intérroger une base de données avec python. Pour ceci, la première étape est d'importer le module sqlite3.\n",
    "\n",
    "Une fois cette étape effectuée, on se connecte à la base de données, puis nous pouvons créer le curseur."
   ]
  },
  {
   "cell_type": "code",
   "execution_count": null,
   "metadata": {},
   "outputs": [],
   "source": [
    "import sqlite3\n",
    "\n",
    "connexion = sqlite3.connect(\"Chinook_Sqlite.sqlite\")\n",
    "curseur = connexion.cursor()"
   ]
  },
  {
   "cell_type": "markdown",
   "metadata": {},
   "source": [
    "Une fois le curseur, nous pouvons demander au curseur d'exécuter nos requêtes SQL à l'aide de la méthode execute()"
   ]
  },
  {
   "cell_type": "code",
   "execution_count": null,
   "metadata": {},
   "outputs": [],
   "source": [
    "curseur.execute(\"SELECT * from Artist;\")"
   ]
  },
  {
   "cell_type": "markdown",
   "metadata": {},
   "source": [
    "Afin de parcourir les données reçues, nous pouvons utiliser 3 methodes :\n",
    "- la méthode fetchall() qui renvoie une liste contenant chaque entrée dans un tuple\n",
    "- la méthode fetchmany() qui prend un entier n en paramètre et renvoie une liste qui contient les n premières entrées (sous forme de tuple)\n",
    "- la méthode fetchone() qui renvoie la première entrée sous forme de tuple"
   ]
  },
  {
   "cell_type": "code",
   "execution_count": null,
   "metadata": {},
   "outputs": [],
   "source": [
    "curseur.execute(\"SELECT * from Artist;\")\n",
    "curseur.fetchone()"
   ]
  },
  {
   "cell_type": "code",
   "execution_count": null,
   "metadata": {},
   "outputs": [],
   "source": [
    "curseur.execute(\"SELECT * from Artist;\")\n",
    "curseur.fetchall()"
   ]
  },
  {
   "cell_type": "code",
   "execution_count": null,
   "metadata": {},
   "outputs": [],
   "source": [
    "curseur.execute(\"SELECT * from Artist;\")\n",
    "curseur.fetchmany(5)"
   ]
  },
  {
   "cell_type": "markdown",
   "metadata": {},
   "source": [
    "1. **Selectionnez les clients (customer) qui ne viennent pas des USA. (On selectionnera uniquement les colonnes _CustomerId_, _FirstName_, _LastName_ et _Country_)**"
   ]
  },
  {
   "cell_type": "code",
   "execution_count": null,
   "metadata": {},
   "outputs": [],
   "source": []
  },
  {
   "cell_type": "markdown",
   "metadata": {},
   "source": [
    "2. **Selectionnez uniquement les clients qui viennent du Brésil (On selectionnera uniquement les colonnes _CustomerId_, _FirstName_, _LastName_ et _Country_)**"
   ]
  },
  {
   "cell_type": "code",
   "execution_count": null,
   "metadata": {},
   "outputs": [],
   "source": []
  },
  {
   "cell_type": "markdown",
   "metadata": {},
   "source": [
    "3. **Selectionnez les factures (Invoice) des clients brésiliens. Afficher le nom, le prénom, l'ID de la facture, la date et le pays de facturation**"
   ]
  },
  {
   "cell_type": "code",
   "execution_count": null,
   "metadata": {},
   "outputs": [],
   "source": []
  },
  {
   "cell_type": "markdown",
   "metadata": {},
   "source": [
    "4. **Affichez la liste des pays où au moins une facture a été enregistrée. (On n'affichera qu'une seule fois chaque pays)**"
   ]
  },
  {
   "cell_type": "code",
   "execution_count": null,
   "metadata": {},
   "outputs": [],
   "source": []
  },
  {
   "cell_type": "markdown",
   "metadata": {},
   "source": [
    "5. **Écrivez une requête SQL permettant d'afficher toutes les factures associées à leur vendeur (On affichera le prénom, le nom, l'ID de la facture, le total et le prix de la facture)**"
   ]
  },
  {
   "cell_type": "code",
   "execution_count": null,
   "metadata": {},
   "outputs": [],
   "source": []
  },
  {
   "cell_type": "markdown",
   "metadata": {},
   "source": [
    "6. **Écrivez une requête SQL permettant d'afficher la somme totale des ventes de chaque vendeur** (Indice : GROUP BY)"
   ]
  },
  {
   "cell_type": "code",
   "execution_count": null,
   "metadata": {},
   "outputs": [],
   "source": []
  },
  {
   "cell_type": "markdown",
   "metadata": {},
   "source": [
    "7. **Écrivez une requête SQL permettant d'afficher la somme totale des ventes de chaque vendeur en 2009** (Indice : GROUP BY)"
   ]
  },
  {
   "cell_type": "code",
   "execution_count": null,
   "metadata": {},
   "outputs": [],
   "source": []
  },
  {
   "cell_type": "markdown",
   "metadata": {},
   "source": [
    "8. **Écrivez une requête SQL permettant d'afficher le total de chanson qui sont du Metal**"
   ]
  },
  {
   "cell_type": "code",
   "execution_count": null,
   "metadata": {},
   "outputs": [],
   "source": []
  },
  {
   "cell_type": "markdown",
   "metadata": {},
   "source": [
    "9. **Écrivez une requête SQL permettant de connaitre le nombre de chansons dans chaque playlist**"
   ]
  },
  {
   "cell_type": "code",
   "execution_count": null,
   "metadata": {},
   "outputs": [],
   "source": []
  }
 ],
 "metadata": {
  "kernelspec": {
   "display_name": "Python 3.9.7 64-bit",
   "language": "python",
   "name": "python3"
  },
  "language_info": {
   "codemirror_mode": {
    "name": "ipython",
    "version": 3
   },
   "file_extension": ".py",
   "mimetype": "text/x-python",
   "name": "python",
   "nbconvert_exporter": "python",
   "pygments_lexer": "ipython3",
   "version": "3.9.7"
  },
  "orig_nbformat": 4,
  "vscode": {
   "interpreter": {
    "hash": "b0fa6594d8f4cbf19f97940f81e996739fb7646882a419484c72d19e05852a7e"
   }
  }
 },
 "nbformat": 4,
 "nbformat_minor": 2
}
