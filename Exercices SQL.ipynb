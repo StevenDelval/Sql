{
 "cells": [
  {
   "cell_type": "markdown",
   "metadata": {},
   "source": [
    "# Exercices SQL\n",
    "\n",
    "Lors de cet exercice sur les requêtes SQL, vous apprendrez à effectuer des requêtes SQL afin d'intérroger une base de données avec python. Pour ceci, la première étape est d'importer le module sqlite3.\n",
    "\n",
    "Une fois cette étape effectuée, on se connecte à la base de données, puis nous pouvons créer le curseur."
   ]
  },
  {
   "cell_type": "code",
   "execution_count": null,
   "metadata": {},
   "outputs": [],
   "source": [
    "import sqlite3\n",
    "\n",
    "connexion = sqlite3.connect(\"Chinook_Sqlite.sqlite\")\n",
    "curseur = connexion.cursor()"
   ]
  },
  {
   "cell_type": "markdown",
   "metadata": {},
   "source": [
    "Une fois le curseur, nous pouvons demander au curseur d'exécuter nos requêtes SQL à l'aide de la méthode execute()"
   ]
  },
  {
   "cell_type": "code",
   "execution_count": null,
   "metadata": {},
   "outputs": [],
   "source": [
    "curseur.execute(\"SELECT * from Artist;\")"
   ]
  },
  {
   "cell_type": "markdown",
   "metadata": {},
   "source": [
    "Afin de parcourir les données reçues, nous pouvons utiliser 3 methodes :\n",
    "- la méthode fetchall() qui renvoie une liste contenant chaque entrée dans un tuple\n",
    "- la méthode fetchmany() qui prend un entier n en paramètre et renvoie une liste qui contient les n premières entrées (sous forme de tuple)\n",
    "- la méthode fetchone() qui renvoie la première entrée sous forme de tuple"
   ]
  },
  {
   "cell_type": "code",
   "execution_count": null,
   "metadata": {},
   "outputs": [],
   "source": [
    "curseur.execute(\"SELECT * from Artist;\")\n",
    "curseur.fetchone()"
   ]
  },
  {
   "cell_type": "code",
   "execution_count": null,
   "metadata": {},
   "outputs": [],
   "source": [
    "curseur.execute(\"SELECT * from Artist;\")\n",
    "curseur.fetchall()"
   ]
  },
  {
   "cell_type": "code",
   "execution_count": null,
   "metadata": {},
   "outputs": [],
   "source": [
    "curseur.execute(\"SELECT * from Artist;\")\n",
    "curseur.fetchmany(5)"
   ]
  },
  {
   "cell_type": "markdown",
   "metadata": {},
   "source": [
    "1. **Selectionnez les clients (customer) qui ne viennent pas des USA. (On selectionnera uniquement les colonnes _CustomerId_, _FirstName_, _LastName_ et _Country_)**"
   ]
  },
  {
   "cell_type": "code",
   "execution_count": null,
   "metadata": {},
   "outputs": [],
   "source": [
    "curseur.execute(\"\"\"\n",
    "                SELECT CustomerId,FirstName,LastName,Country\n",
    "                from Customer\n",
    "                WHERE Country != \"USA\"                 \n",
    "\"\"\")\n",
    "curseur.fetchmany(20)"
   ]
  },
  {
   "cell_type": "markdown",
   "metadata": {},
   "source": [
    "2. **Selectionnez uniquement les clients qui viennent du Brésil (On selectionnera uniquement les colonnes _CustomerId_, _FirstName_, _LastName_ et _Country_)**"
   ]
  },
  {
   "cell_type": "code",
   "execution_count": null,
   "metadata": {},
   "outputs": [],
   "source": [
    "curseur.execute(\"\"\"\n",
    "                SELECT CustomerId,FirstName,LastName,Country\n",
    "                from Customer\n",
    "                WHERE Country == \"Brazil\"                 \n",
    "\"\"\")\n",
    "curseur.fetchmany(20)"
   ]
  },
  {
   "cell_type": "markdown",
   "metadata": {},
   "source": [
    "3. **Selectionnez les factures (Invoice) des clients brésiliens. Afficher le nom, le prénom, l'ID de la facture, la date et le pays de facturation**"
   ]
  },
  {
   "cell_type": "code",
   "execution_count": null,
   "metadata": {},
   "outputs": [],
   "source": [
    "curseur.execute(\"\"\"\n",
    "                SELECT FirstName,LastName,Country,InvoiceId,InvoiceDate,BillingCountry\n",
    "                from Customer\n",
    "                JOIN Invoice ON Customer.CustomerId = Invoice.CustomerId\n",
    "                WHERE Country == \"Brazil\"                 \n",
    "\"\"\")\n",
    "curseur.fetchmany(20)"
   ]
  },
  {
   "cell_type": "markdown",
   "metadata": {},
   "source": [
    "4. **Affichez la liste des pays où au moins une facture a été enregistrée. (On n'affichera qu'une seule fois chaque pays)**"
   ]
  },
  {
   "cell_type": "code",
   "execution_count": null,
   "metadata": {},
   "outputs": [],
   "source": [
    "curseur.execute(\"\"\"\n",
    "                SELECT BillingCountry\n",
    "                from Invoice\n",
    "                GROUP BY BillingCountry\n",
    "                                \n",
    "\"\"\")\n",
    "curseur.fetchall()"
   ]
  },
  {
   "cell_type": "markdown",
   "metadata": {},
   "source": [
    "5. **Écrivez une requête SQL permettant d'afficher toutes les factures associées à leur vendeur (On affichera le prénom, le nom, l'ID de la facture, le total et le prix de la facture)**"
   ]
  },
  {
   "cell_type": "code",
   "execution_count": null,
   "metadata": {},
   "outputs": [],
   "source": [
    "curseur.execute(\"\"\"\n",
    "                SELECT Employee.FirstName,Employee.LastName,InvoiceId,InvoiceDate,Total\n",
    "                from Customer\n",
    "                JOIN Invoice ON Customer.CustomerId = Invoice.CustomerId\n",
    "                JOIN Employee ON Customer.SupportRepId = Employee.EmployeeId\n",
    "                                \n",
    "\"\"\")\n",
    "for ligne in  curseur.fetchall() :\n",
    "    print(ligne,end=\"\\n\")"
   ]
  },
  {
   "cell_type": "markdown",
   "metadata": {},
   "source": [
    "6. **Écrivez une requête SQL permettant d'afficher la somme totale des ventes de chaque vendeur** (Indice : GROUP BY)"
   ]
  },
  {
   "cell_type": "code",
   "execution_count": null,
   "metadata": {},
   "outputs": [],
   "source": [
    "curseur.execute(\"\"\"\n",
    "                SELECT Employee.FirstName,Employee.LastName,SUM(Total)\n",
    "                from Customer\n",
    "                JOIN Invoice ON Customer.CustomerId = Invoice.CustomerId\n",
    "                JOIN Employee ON Customer.SupportRepId = Employee.EmployeeId\n",
    "                GROUP BY Employee.EmployeeId\n",
    "\"\"\")\n",
    "for ligne in  curseur.fetchall() :\n",
    "    print(ligne,end=\"\\n\")"
   ]
  },
  {
   "cell_type": "markdown",
   "metadata": {},
   "source": [
    "7. **Écrivez une requête SQL permettant d'afficher la somme totale des ventes de chaque vendeur en 2009** (Indice : GROUP BY)"
   ]
  },
  {
   "cell_type": "code",
   "execution_count": null,
   "metadata": {},
   "outputs": [],
   "source": [
    "curseur.execute(\"\"\"\n",
    "                SELECT Employee.FirstName,Employee.LastName,SUM(Total)\n",
    "                from Customer\n",
    "                JOIN Invoice ON Customer.CustomerId = Invoice.CustomerId\n",
    "                JOIN Employee ON Customer.SupportRepId = Employee.EmployeeId\n",
    "                WHERE InvoiceDate BETWEEN \"2009-01-01 00:00:00\" AND \"2009-12-31 23:59:59\"\n",
    "                GROUP BY Employee.EmployeeId\n",
    "                \n",
    "                               \n",
    "\"\"\")\n",
    "for ligne in  curseur.fetchall() :\n",
    "    print(ligne,end=\"\\n\")"
   ]
  },
  {
   "cell_type": "markdown",
   "metadata": {},
   "source": [
    "8. **Écrivez une requête SQL permettant d'afficher le total de chanson qui sont du Metal**"
   ]
  },
  {
   "cell_type": "code",
   "execution_count": null,
   "metadata": {},
   "outputs": [],
   "source": [
    "curseur.execute(\"\"\"\n",
    "                SELECT Genre.Name,COUNT(Genre.Name) from Track \n",
    "                JOIN Genre ON Genre.GenreID = Track.GenreID\n",
    "                WHERE Genre.Name= \"Metal\"\n",
    "                GROUP BY Genre.Name\n",
    "                \n",
    "                ;\n",
    "\"\"\" )\n",
    "for ligne in  curseur.fetchall() :\n",
    "    print(ligne,end=\"\\n\")"
   ]
  },
  {
   "cell_type": "markdown",
   "metadata": {},
   "source": [
    "9. **Écrivez une requête SQL permettant de connaitre le nombre de chansons dans chaque playlist**"
   ]
  },
  {
   "cell_type": "code",
   "execution_count": null,
   "metadata": {},
   "outputs": [],
   "source": [
    "curseur.execute(\"\"\"\n",
    "                SELECT Playlist.PlaylistId,Playlist.Name,COUNT(PlaylistTrack.TrackId) From Playlist\n",
    "                JOIN PlaylistTrack ON PlaylistTrack.PlaylistId = Playlist.PlaylistId \n",
    "                GROUP BY Playlist.PlaylistId,Playlist.Name\n",
    "                ;\n",
    "\"\"\" )\n",
    "for ligne in  curseur.fetchall() :\n",
    "    print(ligne,end=\"\\n\")"
   ]
  }
 ],
 "metadata": {
  "kernelspec": {
   "display_name": "Python 3.10.4 64-bit",
   "language": "python",
   "name": "python3"
  },
  "language_info": {
   "codemirror_mode": {
    "name": "ipython",
    "version": 3
   },
   "file_extension": ".py",
   "mimetype": "text/x-python",
   "name": "python",
   "nbconvert_exporter": "python",
   "pygments_lexer": "ipython3",
   "version": "3.10.4"
  },
  "orig_nbformat": 4,
  "vscode": {
   "interpreter": {
    "hash": "916dbcbb3f70747c44a77c7bcd40155683ae19c65e1c03b4aa3499c5328201f1"
   }
  }
 },
 "nbformat": 4,
 "nbformat_minor": 2
}
